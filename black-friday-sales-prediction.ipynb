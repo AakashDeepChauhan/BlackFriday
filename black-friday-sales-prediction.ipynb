{
 "cells": [
  {
   "cell_type": "markdown",
   "id": "4cc11f2b",
   "metadata": {
    "papermill": {
     "duration": 0.013935,
     "end_time": "2025-02-09T10:44:18.847349",
     "exception": false,
     "start_time": "2025-02-09T10:44:18.833414",
     "status": "completed"
    },
    "tags": []
   },
   "source": [
    "# Black Friday Sales Prediction"
   ]
  },
  {
   "cell_type": "code",
   "execution_count": 1,
   "id": "12a6e2ff",
   "metadata": {
    "_cell_guid": "b1076dfc-b9ad-4769-8c92-a6c4dae69d19",
    "_uuid": "8f2839f25d086af736a60e9eeb907d3b93b6e0e5",
    "execution": {
     "iopub.execute_input": "2025-02-09T10:44:18.874544Z",
     "iopub.status.busy": "2025-02-09T10:44:18.874186Z",
     "iopub.status.idle": "2025-02-09T10:44:21.493167Z",
     "shell.execute_reply": "2025-02-09T10:44:21.491547Z"
    },
    "papermill": {
     "duration": 2.635179,
     "end_time": "2025-02-09T10:44:21.495552",
     "exception": false,
     "start_time": "2025-02-09T10:44:18.860373",
     "status": "completed"
    },
    "tags": []
   },
   "outputs": [
    {
     "name": "stdout",
     "output_type": "stream",
     "text": [
      "/kaggle/input/black-friday-sales-data/train.csv\n"
     ]
    }
   ],
   "source": [
    "# This Python 3 environment comes with many helpful analytics libraries installed\n",
    "# It is defined by the kaggle/python Docker image: https://github.com/kaggle/docker-python\n",
    "# For example, here's several helpful packages to load\n",
    "\n",
    "import numpy as np # linear algebra\n",
    "import pandas as pd # data processing, CSV file I/O (e.g. pd.read_csv)\n",
    "import seaborn as sns\n",
    "import matplotlib.pyplot as plt\n",
    "import warnings\n",
    "warnings.filterwarnings('ignore')# Ignoring warnings\n",
    "# Input data files are available in the read-only \"../input/\" directory\n",
    "# For example, running this (by clicking run or pressing Shift+Enter) will list all files under the input directory\n",
    "\n",
    "import os\n",
    "for dirname, _, filenames in os.walk('/kaggle/input'):\n",
    "    for filename in filenames:\n",
    "        print(os.path.join(dirname, filename))\n",
    "\n",
    "# You can write up to 20GB to the current directory (/kaggle/working/) that gets preserved as output when you create a version using \"Save & Run All\" \n",
    "# You can also write temporary files to /kaggle/temp/, but they won't be saved outside of the current session"
   ]
  },
  {
   "cell_type": "code",
   "execution_count": 2,
   "id": "b06386fb",
   "metadata": {
    "execution": {
     "iopub.execute_input": "2025-02-09T10:44:21.523884Z",
     "iopub.status.busy": "2025-02-09T10:44:21.523253Z",
     "iopub.status.idle": "2025-02-09T10:44:22.609252Z",
     "shell.execute_reply": "2025-02-09T10:44:22.608093Z"
    },
    "papermill": {
     "duration": 1.102714,
     "end_time": "2025-02-09T10:44:22.611346",
     "exception": false,
     "start_time": "2025-02-09T10:44:21.508632",
     "status": "completed"
    },
    "tags": []
   },
   "outputs": [],
   "source": [
    "bfs=pd.read_csv(\"/kaggle/input/black-friday-sales-data/train.csv\")"
   ]
  },
  {
   "cell_type": "code",
   "execution_count": 3,
   "id": "14356aac",
   "metadata": {
    "execution": {
     "iopub.execute_input": "2025-02-09T10:44:22.638320Z",
     "iopub.status.busy": "2025-02-09T10:44:22.637942Z",
     "iopub.status.idle": "2025-02-09T10:44:22.668242Z",
     "shell.execute_reply": "2025-02-09T10:44:22.666949Z"
    },
    "papermill": {
     "duration": 0.045956,
     "end_time": "2025-02-09T10:44:22.670313",
     "exception": false,
     "start_time": "2025-02-09T10:44:22.624357",
     "status": "completed"
    },
    "tags": []
   },
   "outputs": [
    {
     "data": {
      "text/html": [
       "<div>\n",
       "<style scoped>\n",
       "    .dataframe tbody tr th:only-of-type {\n",
       "        vertical-align: middle;\n",
       "    }\n",
       "\n",
       "    .dataframe tbody tr th {\n",
       "        vertical-align: top;\n",
       "    }\n",
       "\n",
       "    .dataframe thead th {\n",
       "        text-align: right;\n",
       "    }\n",
       "</style>\n",
       "<table border=\"1\" class=\"dataframe\">\n",
       "  <thead>\n",
       "    <tr style=\"text-align: right;\">\n",
       "      <th></th>\n",
       "      <th>User_ID</th>\n",
       "      <th>Product_ID</th>\n",
       "      <th>Gender</th>\n",
       "      <th>Age</th>\n",
       "      <th>Occupation</th>\n",
       "      <th>City_Category</th>\n",
       "      <th>Stay_In_Current_City_Years</th>\n",
       "      <th>Marital_Status</th>\n",
       "      <th>Product_Category_1</th>\n",
       "      <th>Product_Category_2</th>\n",
       "      <th>Product_Category_3</th>\n",
       "      <th>Purchase</th>\n",
       "    </tr>\n",
       "  </thead>\n",
       "  <tbody>\n",
       "    <tr>\n",
       "      <th>0</th>\n",
       "      <td>1000001</td>\n",
       "      <td>P00069042</td>\n",
       "      <td>F</td>\n",
       "      <td>0-17</td>\n",
       "      <td>10</td>\n",
       "      <td>A</td>\n",
       "      <td>2</td>\n",
       "      <td>0</td>\n",
       "      <td>3</td>\n",
       "      <td>NaN</td>\n",
       "      <td>NaN</td>\n",
       "      <td>8370</td>\n",
       "    </tr>\n",
       "    <tr>\n",
       "      <th>1</th>\n",
       "      <td>1000001</td>\n",
       "      <td>P00248942</td>\n",
       "      <td>F</td>\n",
       "      <td>0-17</td>\n",
       "      <td>10</td>\n",
       "      <td>A</td>\n",
       "      <td>2</td>\n",
       "      <td>0</td>\n",
       "      <td>1</td>\n",
       "      <td>6.0</td>\n",
       "      <td>14.0</td>\n",
       "      <td>15200</td>\n",
       "    </tr>\n",
       "    <tr>\n",
       "      <th>2</th>\n",
       "      <td>1000001</td>\n",
       "      <td>P00087842</td>\n",
       "      <td>F</td>\n",
       "      <td>0-17</td>\n",
       "      <td>10</td>\n",
       "      <td>A</td>\n",
       "      <td>2</td>\n",
       "      <td>0</td>\n",
       "      <td>12</td>\n",
       "      <td>NaN</td>\n",
       "      <td>NaN</td>\n",
       "      <td>1422</td>\n",
       "    </tr>\n",
       "    <tr>\n",
       "      <th>3</th>\n",
       "      <td>1000001</td>\n",
       "      <td>P00085442</td>\n",
       "      <td>F</td>\n",
       "      <td>0-17</td>\n",
       "      <td>10</td>\n",
       "      <td>A</td>\n",
       "      <td>2</td>\n",
       "      <td>0</td>\n",
       "      <td>12</td>\n",
       "      <td>14.0</td>\n",
       "      <td>NaN</td>\n",
       "      <td>1057</td>\n",
       "    </tr>\n",
       "    <tr>\n",
       "      <th>4</th>\n",
       "      <td>1000002</td>\n",
       "      <td>P00285442</td>\n",
       "      <td>M</td>\n",
       "      <td>55+</td>\n",
       "      <td>16</td>\n",
       "      <td>C</td>\n",
       "      <td>4+</td>\n",
       "      <td>0</td>\n",
       "      <td>8</td>\n",
       "      <td>NaN</td>\n",
       "      <td>NaN</td>\n",
       "      <td>7969</td>\n",
       "    </tr>\n",
       "  </tbody>\n",
       "</table>\n",
       "</div>"
      ],
      "text/plain": [
       "   User_ID Product_ID Gender   Age  Occupation City_Category  \\\n",
       "0  1000001  P00069042      F  0-17          10             A   \n",
       "1  1000001  P00248942      F  0-17          10             A   \n",
       "2  1000001  P00087842      F  0-17          10             A   \n",
       "3  1000001  P00085442      F  0-17          10             A   \n",
       "4  1000002  P00285442      M   55+          16             C   \n",
       "\n",
       "  Stay_In_Current_City_Years  Marital_Status  Product_Category_1  \\\n",
       "0                          2               0                   3   \n",
       "1                          2               0                   1   \n",
       "2                          2               0                  12   \n",
       "3                          2               0                  12   \n",
       "4                         4+               0                   8   \n",
       "\n",
       "   Product_Category_2  Product_Category_3  Purchase  \n",
       "0                 NaN                 NaN      8370  \n",
       "1                 6.0                14.0     15200  \n",
       "2                 NaN                 NaN      1422  \n",
       "3                14.0                 NaN      1057  \n",
       "4                 NaN                 NaN      7969  "
      ]
     },
     "execution_count": 3,
     "metadata": {},
     "output_type": "execute_result"
    }
   ],
   "source": [
    "bfs.head()"
   ]
  },
  {
   "cell_type": "markdown",
   "id": "8e0d8dba",
   "metadata": {
    "papermill": {
     "duration": 0.012647,
     "end_time": "2025-02-09T10:44:22.696986",
     "exception": false,
     "start_time": "2025-02-09T10:44:22.684339",
     "status": "completed"
    },
    "tags": []
   },
   "source": [
    "## Reading information about data"
   ]
  },
  {
   "cell_type": "code",
   "execution_count": 4,
   "id": "66f7dad5",
   "metadata": {
    "execution": {
     "iopub.execute_input": "2025-02-09T10:44:22.724701Z",
     "iopub.status.busy": "2025-02-09T10:44:22.724294Z",
     "iopub.status.idle": "2025-02-09T10:44:22.892422Z",
     "shell.execute_reply": "2025-02-09T10:44:22.891067Z"
    },
    "papermill": {
     "duration": 0.185084,
     "end_time": "2025-02-09T10:44:22.895321",
     "exception": false,
     "start_time": "2025-02-09T10:44:22.710237",
     "status": "completed"
    },
    "tags": []
   },
   "outputs": [
    {
     "name": "stdout",
     "output_type": "stream",
     "text": [
      "<class 'pandas.core.frame.DataFrame'>\n",
      "RangeIndex: 550068 entries, 0 to 550067\n",
      "Data columns (total 12 columns):\n",
      " #   Column                      Non-Null Count   Dtype  \n",
      "---  ------                      --------------   -----  \n",
      " 0   User_ID                     550068 non-null  int64  \n",
      " 1   Product_ID                  550068 non-null  object \n",
      " 2   Gender                      550068 non-null  object \n",
      " 3   Age                         550068 non-null  object \n",
      " 4   Occupation                  550068 non-null  int64  \n",
      " 5   City_Category               550068 non-null  object \n",
      " 6   Stay_In_Current_City_Years  550068 non-null  object \n",
      " 7   Marital_Status              550068 non-null  int64  \n",
      " 8   Product_Category_1          550068 non-null  int64  \n",
      " 9   Product_Category_2          376430 non-null  float64\n",
      " 10  Product_Category_3          166821 non-null  float64\n",
      " 11  Purchase                    550068 non-null  int64  \n",
      "dtypes: float64(2), int64(5), object(5)\n",
      "memory usage: 50.4+ MB\n"
     ]
    }
   ],
   "source": [
    "bfs.info()"
   ]
  },
  {
   "cell_type": "code",
   "execution_count": 5,
   "id": "ee8bb1c1",
   "metadata": {
    "execution": {
     "iopub.execute_input": "2025-02-09T10:44:22.926228Z",
     "iopub.status.busy": "2025-02-09T10:44:22.925812Z",
     "iopub.status.idle": "2025-02-09T10:44:22.932584Z",
     "shell.execute_reply": "2025-02-09T10:44:22.931433Z"
    },
    "papermill": {
     "duration": 0.023399,
     "end_time": "2025-02-09T10:44:22.934381",
     "exception": false,
     "start_time": "2025-02-09T10:44:22.910982",
     "status": "completed"
    },
    "tags": []
   },
   "outputs": [
    {
     "data": {
      "text/plain": [
       "Index(['User_ID', 'Product_ID', 'Gender', 'Age', 'Occupation', 'City_Category',\n",
       "       'Stay_In_Current_City_Years', 'Marital_Status', 'Product_Category_1',\n",
       "       'Product_Category_2', 'Product_Category_3', 'Purchase'],\n",
       "      dtype='object')"
      ]
     },
     "execution_count": 5,
     "metadata": {},
     "output_type": "execute_result"
    }
   ],
   "source": [
    "bfs.columns"
   ]
  },
  {
   "cell_type": "code",
   "execution_count": 6,
   "id": "a4924704",
   "metadata": {
    "execution": {
     "iopub.execute_input": "2025-02-09T10:44:22.962637Z",
     "iopub.status.busy": "2025-02-09T10:44:22.962279Z",
     "iopub.status.idle": "2025-02-09T10:44:23.275704Z",
     "shell.execute_reply": "2025-02-09T10:44:23.274648Z"
    },
    "papermill": {
     "duration": 0.329614,
     "end_time": "2025-02-09T10:44:23.277597",
     "exception": false,
     "start_time": "2025-02-09T10:44:22.947983",
     "status": "completed"
    },
    "tags": []
   },
   "outputs": [
    {
     "data": {
      "text/plain": [
       "False    550068\n",
       "Name: count, dtype: int64"
      ]
     },
     "execution_count": 6,
     "metadata": {},
     "output_type": "execute_result"
    }
   ],
   "source": [
    "bfs.duplicated().value_counts()"
   ]
  },
  {
   "cell_type": "markdown",
   "id": "29170e00",
   "metadata": {
    "papermill": {
     "duration": 0.013928,
     "end_time": "2025-02-09T10:44:23.305189",
     "exception": false,
     "start_time": "2025-02-09T10:44:23.291261",
     "status": "completed"
    },
    "tags": []
   },
   "source": [
    "We have a total of 550068 rows of data, including NaN values with no duplicated data. So, the first task is to convert the given data into useful data."
   ]
  },
  {
   "cell_type": "code",
   "execution_count": 7,
   "id": "e8944154",
   "metadata": {
    "execution": {
     "iopub.execute_input": "2025-02-09T10:44:23.339587Z",
     "iopub.status.busy": "2025-02-09T10:44:23.339208Z",
     "iopub.status.idle": "2025-02-09T10:44:23.344370Z",
     "shell.execute_reply": "2025-02-09T10:44:23.343344Z"
    },
    "papermill": {
     "duration": 0.026615,
     "end_time": "2025-02-09T10:44:23.346466",
     "exception": false,
     "start_time": "2025-02-09T10:44:23.319851",
     "status": "completed"
    },
    "tags": []
   },
   "outputs": [],
   "source": [
    "bfs.rename(columns=str.lower,inplace=True) #Convertig all the columns name in the lowercase for easy use."
   ]
  },
  {
   "cell_type": "code",
   "execution_count": 8,
   "id": "9e8d7ce7",
   "metadata": {
    "execution": {
     "iopub.execute_input": "2025-02-09T10:44:23.388873Z",
     "iopub.status.busy": "2025-02-09T10:44:23.388412Z",
     "iopub.status.idle": "2025-02-09T10:44:23.395090Z",
     "shell.execute_reply": "2025-02-09T10:44:23.393912Z"
    },
    "papermill": {
     "duration": 0.029063,
     "end_time": "2025-02-09T10:44:23.396940",
     "exception": false,
     "start_time": "2025-02-09T10:44:23.367877",
     "status": "completed"
    },
    "tags": []
   },
   "outputs": [
    {
     "data": {
      "text/plain": [
       "Index(['user_id', 'product_id', 'gender', 'age', 'occupation', 'city_category',\n",
       "       'stay_in_current_city_years', 'marital_status', 'product_category_1',\n",
       "       'product_category_2', 'product_category_3', 'purchase'],\n",
       "      dtype='object')"
      ]
     },
     "execution_count": 8,
     "metadata": {},
     "output_type": "execute_result"
    }
   ],
   "source": [
    "bfs.columns"
   ]
  },
  {
   "cell_type": "markdown",
   "id": "035d6fdf",
   "metadata": {
    "papermill": {
     "duration": 0.012887,
     "end_time": "2025-02-09T10:44:23.423783",
     "exception": false,
     "start_time": "2025-02-09T10:44:23.410896",
     "status": "completed"
    },
    "tags": []
   },
   "source": [
    "## Procecssing each column Individually"
   ]
  },
  {
   "cell_type": "markdown",
   "id": "70e48197",
   "metadata": {
    "papermill": {
     "duration": 0.013407,
     "end_time": "2025-02-09T10:44:23.450347",
     "exception": false,
     "start_time": "2025-02-09T10:44:23.436940",
     "status": "completed"
    },
    "tags": []
   },
   "source": [
    "### user_id: \n",
    "\n",
    "It is nothing but a unique customer ID."
   ]
  },
  {
   "cell_type": "code",
   "execution_count": 9,
   "id": "e7e54d24",
   "metadata": {
    "execution": {
     "iopub.execute_input": "2025-02-09T10:44:23.489106Z",
     "iopub.status.busy": "2025-02-09T10:44:23.488537Z",
     "iopub.status.idle": "2025-02-09T10:44:23.499681Z",
     "shell.execute_reply": "2025-02-09T10:44:23.498029Z"
    },
    "papermill": {
     "duration": 0.037904,
     "end_time": "2025-02-09T10:44:23.502404",
     "exception": false,
     "start_time": "2025-02-09T10:44:23.464500",
     "status": "completed"
    },
    "tags": []
   },
   "outputs": [
    {
     "data": {
      "text/plain": [
       "0         1000001\n",
       "1         1000001\n",
       "2         1000001\n",
       "3         1000001\n",
       "4         1000002\n",
       "           ...   \n",
       "550063    1006033\n",
       "550064    1006035\n",
       "550065    1006036\n",
       "550066    1006038\n",
       "550067    1006039\n",
       "Name: user_id, Length: 550068, dtype: int64"
      ]
     },
     "execution_count": 9,
     "metadata": {},
     "output_type": "execute_result"
    }
   ],
   "source": [
    "bfs.user_id"
   ]
  },
  {
   "cell_type": "markdown",
   "id": "9c8e52ff",
   "metadata": {
    "papermill": {
     "duration": 0.025146,
     "end_time": "2025-02-09T10:44:23.558373",
     "exception": false,
     "start_time": "2025-02-09T10:44:23.533227",
     "status": "completed"
    },
    "tags": []
   },
   "source": [
    "### gender: \n",
    "\n",
    "The column contains gender information with ['M','F'] values."
   ]
  },
  {
   "cell_type": "code",
   "execution_count": 10,
   "id": "5e2f6b84",
   "metadata": {
    "execution": {
     "iopub.execute_input": "2025-02-09T10:44:23.600978Z",
     "iopub.status.busy": "2025-02-09T10:44:23.600368Z",
     "iopub.status.idle": "2025-02-09T10:44:23.640449Z",
     "shell.execute_reply": "2025-02-09T10:44:23.638949Z"
    },
    "papermill": {
     "duration": 0.065439,
     "end_time": "2025-02-09T10:44:23.643345",
     "exception": false,
     "start_time": "2025-02-09T10:44:23.577906",
     "status": "completed"
    },
    "tags": []
   },
   "outputs": [
    {
     "data": {
      "text/plain": [
       "array(['F', 'M'], dtype=object)"
      ]
     },
     "execution_count": 10,
     "metadata": {},
     "output_type": "execute_result"
    }
   ],
   "source": [
    "bfs.gender.unique()"
   ]
  },
  {
   "cell_type": "code",
   "execution_count": 11,
   "id": "3cb34d7c",
   "metadata": {
    "execution": {
     "iopub.execute_input": "2025-02-09T10:44:23.674583Z",
     "iopub.status.busy": "2025-02-09T10:44:23.674173Z",
     "iopub.status.idle": "2025-02-09T10:44:23.688313Z",
     "shell.execute_reply": "2025-02-09T10:44:23.686944Z"
    },
    "papermill": {
     "duration": 0.030676,
     "end_time": "2025-02-09T10:44:23.690107",
     "exception": false,
     "start_time": "2025-02-09T10:44:23.659431",
     "status": "completed"
    },
    "tags": []
   },
   "outputs": [
    {
     "data": {
      "text/html": [
       "<div>\n",
       "<style scoped>\n",
       "    .dataframe tbody tr th:only-of-type {\n",
       "        vertical-align: middle;\n",
       "    }\n",
       "\n",
       "    .dataframe tbody tr th {\n",
       "        vertical-align: top;\n",
       "    }\n",
       "\n",
       "    .dataframe thead th {\n",
       "        text-align: right;\n",
       "    }\n",
       "</style>\n",
       "<table border=\"1\" class=\"dataframe\">\n",
       "  <thead>\n",
       "    <tr style=\"text-align: right;\">\n",
       "      <th></th>\n",
       "      <th>user_id</th>\n",
       "      <th>product_id</th>\n",
       "      <th>gender</th>\n",
       "      <th>age</th>\n",
       "      <th>occupation</th>\n",
       "      <th>city_category</th>\n",
       "      <th>stay_in_current_city_years</th>\n",
       "      <th>marital_status</th>\n",
       "      <th>product_category_1</th>\n",
       "      <th>product_category_2</th>\n",
       "      <th>product_category_3</th>\n",
       "      <th>purchase</th>\n",
       "    </tr>\n",
       "  </thead>\n",
       "  <tbody>\n",
       "    <tr>\n",
       "      <th>0</th>\n",
       "      <td>1000001</td>\n",
       "      <td>P00069042</td>\n",
       "      <td>F</td>\n",
       "      <td>0-17</td>\n",
       "      <td>10</td>\n",
       "      <td>A</td>\n",
       "      <td>2</td>\n",
       "      <td>0</td>\n",
       "      <td>3</td>\n",
       "      <td>NaN</td>\n",
       "      <td>NaN</td>\n",
       "      <td>8370</td>\n",
       "    </tr>\n",
       "    <tr>\n",
       "      <th>1</th>\n",
       "      <td>1000001</td>\n",
       "      <td>P00248942</td>\n",
       "      <td>F</td>\n",
       "      <td>0-17</td>\n",
       "      <td>10</td>\n",
       "      <td>A</td>\n",
       "      <td>2</td>\n",
       "      <td>0</td>\n",
       "      <td>1</td>\n",
       "      <td>6.0</td>\n",
       "      <td>14.0</td>\n",
       "      <td>15200</td>\n",
       "    </tr>\n",
       "  </tbody>\n",
       "</table>\n",
       "</div>"
      ],
      "text/plain": [
       "   user_id product_id gender   age  occupation city_category  \\\n",
       "0  1000001  P00069042      F  0-17          10             A   \n",
       "1  1000001  P00248942      F  0-17          10             A   \n",
       "\n",
       "  stay_in_current_city_years  marital_status  product_category_1  \\\n",
       "0                          2               0                   3   \n",
       "1                          2               0                   1   \n",
       "\n",
       "   product_category_2  product_category_3  purchase  \n",
       "0                 NaN                 NaN      8370  \n",
       "1                 6.0                14.0     15200  "
      ]
     },
     "execution_count": 11,
     "metadata": {},
     "output_type": "execute_result"
    }
   ],
   "source": [
    "bfs.head(2)"
   ]
  },
  {
   "cell_type": "markdown",
   "id": "74208cb1",
   "metadata": {
    "papermill": {
     "duration": 0.013506,
     "end_time": "2025-02-09T10:44:23.717864",
     "exception": false,
     "start_time": "2025-02-09T10:44:23.704358",
     "status": "completed"
    },
    "tags": []
   },
   "source": [
    "### age:\n",
    "\n",
    "Column contains age category of customers."
   ]
  },
  {
   "cell_type": "code",
   "execution_count": 12,
   "id": "9249a6c5",
   "metadata": {
    "execution": {
     "iopub.execute_input": "2025-02-09T10:44:23.747105Z",
     "iopub.status.busy": "2025-02-09T10:44:23.746656Z",
     "iopub.status.idle": "2025-02-09T10:44:23.779184Z",
     "shell.execute_reply": "2025-02-09T10:44:23.778078Z"
    },
    "papermill": {
     "duration": 0.04917,
     "end_time": "2025-02-09T10:44:23.780892",
     "exception": false,
     "start_time": "2025-02-09T10:44:23.731722",
     "status": "completed"
    },
    "tags": []
   },
   "outputs": [
    {
     "data": {
      "text/plain": [
       "array(['0-17', '55+', '26-35', '46-50', '51-55', '36-45', '18-25'],\n",
       "      dtype=object)"
      ]
     },
     "execution_count": 12,
     "metadata": {},
     "output_type": "execute_result"
    }
   ],
   "source": [
    "bfs.age.unique()"
   ]
  },
  {
   "cell_type": "markdown",
   "id": "3e87326f",
   "metadata": {
    "papermill": {
     "duration": 0.014168,
     "end_time": "2025-02-09T10:44:23.809326",
     "exception": false,
     "start_time": "2025-02-09T10:44:23.795158",
     "status": "completed"
    },
    "tags": []
   },
   "source": [
    "We have a total of 7 age category customer data.\n",
    "\n",
    "'0-17', '18-25', '26-35', '36-45', '46-50', '51-55', and '55+'."
   ]
  },
  {
   "cell_type": "markdown",
   "id": "967ad2eb",
   "metadata": {
    "papermill": {
     "duration": 0.014695,
     "end_time": "2025-02-09T10:44:23.838306",
     "exception": false,
     "start_time": "2025-02-09T10:44:23.823611",
     "status": "completed"
    },
    "tags": []
   },
   "source": [
    "### occupation:\n",
    "\n",
    "Contains occupation information of customers in the form of masked value format."
   ]
  },
  {
   "cell_type": "code",
   "execution_count": 13,
   "id": "2ed2af37",
   "metadata": {
    "execution": {
     "iopub.execute_input": "2025-02-09T10:44:23.868902Z",
     "iopub.status.busy": "2025-02-09T10:44:23.868478Z",
     "iopub.status.idle": "2025-02-09T10:44:23.882548Z",
     "shell.execute_reply": "2025-02-09T10:44:23.881464Z"
    },
    "papermill": {
     "duration": 0.031078,
     "end_time": "2025-02-09T10:44:23.884561",
     "exception": false,
     "start_time": "2025-02-09T10:44:23.853483",
     "status": "completed"
    },
    "tags": []
   },
   "outputs": [
    {
     "data": {
      "text/plain": [
       "(array([10, 16, 15,  7, 20,  9,  1, 12, 17,  0,  3,  4, 11,  8, 19,  2, 18,\n",
       "         5, 14, 13,  6]),\n",
       " 21,\n",
       " dtype('int64'))"
      ]
     },
     "execution_count": 13,
     "metadata": {},
     "output_type": "execute_result"
    }
   ],
   "source": [
    "bfs.occupation.unique(),len(bfs.occupation.unique()),bfs.occupation.dtype"
   ]
  },
  {
   "cell_type": "markdown",
   "id": "436a777e",
   "metadata": {
    "papermill": {
     "duration": 0.013761,
     "end_time": "2025-02-09T10:44:23.913124",
     "exception": false,
     "start_time": "2025-02-09T10:44:23.899363",
     "status": "completed"
    },
    "tags": []
   },
   "source": [
    "We have 21 types of occupations for customers "
   ]
  },
  {
   "cell_type": "markdown",
   "id": "d0b70d61",
   "metadata": {
    "papermill": {
     "duration": 0.013747,
     "end_time": "2025-02-09T10:44:23.941071",
     "exception": false,
     "start_time": "2025-02-09T10:44:23.927324",
     "status": "completed"
    },
    "tags": []
   },
   "source": [
    "### city_category\n",
    "\n",
    "Contains information of cities category wise "
   ]
  },
  {
   "cell_type": "code",
   "execution_count": 14,
   "id": "34cc6341",
   "metadata": {
    "execution": {
     "iopub.execute_input": "2025-02-09T10:44:23.970613Z",
     "iopub.status.busy": "2025-02-09T10:44:23.970237Z",
     "iopub.status.idle": "2025-02-09T10:44:24.000638Z",
     "shell.execute_reply": "2025-02-09T10:44:23.999519Z"
    },
    "papermill": {
     "duration": 0.047742,
     "end_time": "2025-02-09T10:44:24.002989",
     "exception": false,
     "start_time": "2025-02-09T10:44:23.955247",
     "status": "completed"
    },
    "tags": []
   },
   "outputs": [
    {
     "data": {
      "text/plain": [
       "array(['A', 'C', 'B'], dtype=object)"
      ]
     },
     "execution_count": 14,
     "metadata": {},
     "output_type": "execute_result"
    }
   ],
   "source": [
    "bfs.city_category.unique()"
   ]
  },
  {
   "cell_type": "markdown",
   "id": "0da3cbe3",
   "metadata": {
    "papermill": {
     "duration": 0.01385,
     "end_time": "2025-02-09T10:44:24.031997",
     "exception": false,
     "start_time": "2025-02-09T10:44:24.018147",
     "status": "completed"
    },
    "tags": []
   },
   "source": [
    "### stay_in_current_city_years:\n",
    "\n",
    "Contains the total number of years, indicating that the information of customers who belong to the current city."
   ]
  },
  {
   "cell_type": "code",
   "execution_count": 15,
   "id": "a704ee29",
   "metadata": {
    "execution": {
     "iopub.execute_input": "2025-02-09T10:44:24.061375Z",
     "iopub.status.busy": "2025-02-09T10:44:24.061008Z",
     "iopub.status.idle": "2025-02-09T10:44:24.091147Z",
     "shell.execute_reply": "2025-02-09T10:44:24.090139Z"
    },
    "papermill": {
     "duration": 0.04703,
     "end_time": "2025-02-09T10:44:24.093171",
     "exception": false,
     "start_time": "2025-02-09T10:44:24.046141",
     "status": "completed"
    },
    "tags": []
   },
   "outputs": [
    {
     "data": {
      "text/plain": [
       "array(['2', '4+', '3', '1', '0'], dtype=object)"
      ]
     },
     "execution_count": 15,
     "metadata": {},
     "output_type": "execute_result"
    }
   ],
   "source": [
    "bfs.stay_in_current_city_years.unique()"
   ]
  },
  {
   "cell_type": "markdown",
   "id": "39f40b7b",
   "metadata": {
    "papermill": {
     "duration": 0.013445,
     "end_time": "2025-02-09T10:44:24.120876",
     "exception": false,
     "start_time": "2025-02-09T10:44:24.107431",
     "status": "completed"
    },
    "tags": []
   },
   "source": [
    "We have customers who are staying in the city from '0', '1', '2', '3', and '4+' years.\n",
    "\n",
    "We  can replace '4+' years with '4' so we can get the exact number, and we can assume that those customers who have been in the current city for 4 years are staying more than 4 years in the current city."
   ]
  },
  {
   "cell_type": "code",
   "execution_count": 16,
   "id": "fcceeaae",
   "metadata": {
    "execution": {
     "iopub.execute_input": "2025-02-09T10:44:24.149603Z",
     "iopub.status.busy": "2025-02-09T10:44:24.149252Z",
     "iopub.status.idle": "2025-02-09T10:44:24.252040Z",
     "shell.execute_reply": "2025-02-09T10:44:24.250967Z"
    },
    "papermill": {
     "duration": 0.119103,
     "end_time": "2025-02-09T10:44:24.253732",
     "exception": false,
     "start_time": "2025-02-09T10:44:24.134629",
     "status": "completed"
    },
    "tags": []
   },
   "outputs": [
    {
     "data": {
      "text/plain": [
       "array([2, 4, 3, 1, 0])"
      ]
     },
     "execution_count": 16,
     "metadata": {},
     "output_type": "execute_result"
    }
   ],
   "source": [
    "bfs.stay_in_current_city_years=bfs.stay_in_current_city_years.replace(\"4+\",'4').astype(int)\n",
    "bfs.stay_in_current_city_years.unique()"
   ]
  },
  {
   "cell_type": "markdown",
   "id": "c46915ea",
   "metadata": {
    "papermill": {
     "duration": 0.013458,
     "end_time": "2025-02-09T10:44:24.281021",
     "exception": false,
     "start_time": "2025-02-09T10:44:24.267563",
     "status": "completed"
    },
    "tags": []
   },
   "source": [
    "Here, we got 0, 1, 2, 3, and 4 years, which are integer values."
   ]
  },
  {
   "cell_type": "markdown",
   "id": "6b3007d3",
   "metadata": {
    "papermill": {
     "duration": 0.013376,
     "end_time": "2025-02-09T10:44:24.308123",
     "exception": false,
     "start_time": "2025-02-09T10:44:24.294747",
     "status": "completed"
    },
    "tags": []
   },
   "source": [
    "### marital_status:\n",
    "\n",
    "Contains information of customers that they are married or not. "
   ]
  },
  {
   "cell_type": "code",
   "execution_count": 17,
   "id": "392f51a5",
   "metadata": {
    "execution": {
     "iopub.execute_input": "2025-02-09T10:44:24.336910Z",
     "iopub.status.busy": "2025-02-09T10:44:24.336516Z",
     "iopub.status.idle": "2025-02-09T10:44:24.346030Z",
     "shell.execute_reply": "2025-02-09T10:44:24.344999Z"
    },
    "papermill": {
     "duration": 0.02594,
     "end_time": "2025-02-09T10:44:24.347676",
     "exception": false,
     "start_time": "2025-02-09T10:44:24.321736",
     "status": "completed"
    },
    "tags": []
   },
   "outputs": [
    {
     "data": {
      "text/plain": [
       "array([0, 1])"
      ]
     },
     "execution_count": 17,
     "metadata": {},
     "output_type": "execute_result"
    }
   ],
   "source": [
    "bfs.marital_status.unique()"
   ]
  },
  {
   "cell_type": "markdown",
   "id": "03d87ce0",
   "metadata": {
    "papermill": {
     "duration": 0.097888,
     "end_time": "2025-02-09T10:44:24.462207",
     "exception": false,
     "start_time": "2025-02-09T10:44:24.364319",
     "status": "completed"
    },
    "tags": []
   },
   "source": [
    "We assume that **0** means the customer's marital status is **single** and **1** means the customer is **married**. "
   ]
  },
  {
   "cell_type": "markdown",
   "id": "f12b933e",
   "metadata": {
    "papermill": {
     "duration": 0.016582,
     "end_time": "2025-02-09T10:44:24.493334",
     "exception": false,
     "start_time": "2025-02-09T10:44:24.476752",
     "status": "completed"
    },
    "tags": []
   },
   "source": [
    "### product_category:\n",
    "\n",
    "Contains category wise product value."
   ]
  },
  {
   "cell_type": "code",
   "execution_count": 18,
   "id": "facdb9ca",
   "metadata": {
    "execution": {
     "iopub.execute_input": "2025-02-09T10:44:24.525639Z",
     "iopub.status.busy": "2025-02-09T10:44:24.525216Z",
     "iopub.status.idle": "2025-02-09T10:44:24.539452Z",
     "shell.execute_reply": "2025-02-09T10:44:24.538278Z"
    },
    "papermill": {
     "duration": 0.032787,
     "end_time": "2025-02-09T10:44:24.541156",
     "exception": false,
     "start_time": "2025-02-09T10:44:24.508369",
     "status": "completed"
    },
    "tags": []
   },
   "outputs": [
    {
     "data": {
      "text/html": [
       "<div>\n",
       "<style scoped>\n",
       "    .dataframe tbody tr th:only-of-type {\n",
       "        vertical-align: middle;\n",
       "    }\n",
       "\n",
       "    .dataframe tbody tr th {\n",
       "        vertical-align: top;\n",
       "    }\n",
       "\n",
       "    .dataframe thead th {\n",
       "        text-align: right;\n",
       "    }\n",
       "</style>\n",
       "<table border=\"1\" class=\"dataframe\">\n",
       "  <thead>\n",
       "    <tr style=\"text-align: right;\">\n",
       "      <th></th>\n",
       "      <th>user_id</th>\n",
       "      <th>product_id</th>\n",
       "      <th>gender</th>\n",
       "      <th>age</th>\n",
       "      <th>occupation</th>\n",
       "      <th>city_category</th>\n",
       "      <th>stay_in_current_city_years</th>\n",
       "      <th>marital_status</th>\n",
       "      <th>product_category_1</th>\n",
       "      <th>product_category_2</th>\n",
       "      <th>product_category_3</th>\n",
       "      <th>purchase</th>\n",
       "    </tr>\n",
       "  </thead>\n",
       "  <tbody>\n",
       "    <tr>\n",
       "      <th>0</th>\n",
       "      <td>1000001</td>\n",
       "      <td>P00069042</td>\n",
       "      <td>F</td>\n",
       "      <td>0-17</td>\n",
       "      <td>10</td>\n",
       "      <td>A</td>\n",
       "      <td>2</td>\n",
       "      <td>0</td>\n",
       "      <td>3</td>\n",
       "      <td>NaN</td>\n",
       "      <td>NaN</td>\n",
       "      <td>8370</td>\n",
       "    </tr>\n",
       "    <tr>\n",
       "      <th>1</th>\n",
       "      <td>1000001</td>\n",
       "      <td>P00248942</td>\n",
       "      <td>F</td>\n",
       "      <td>0-17</td>\n",
       "      <td>10</td>\n",
       "      <td>A</td>\n",
       "      <td>2</td>\n",
       "      <td>0</td>\n",
       "      <td>1</td>\n",
       "      <td>6.0</td>\n",
       "      <td>14.0</td>\n",
       "      <td>15200</td>\n",
       "    </tr>\n",
       "  </tbody>\n",
       "</table>\n",
       "</div>"
      ],
      "text/plain": [
       "   user_id product_id gender   age  occupation city_category  \\\n",
       "0  1000001  P00069042      F  0-17          10             A   \n",
       "1  1000001  P00248942      F  0-17          10             A   \n",
       "\n",
       "   stay_in_current_city_years  marital_status  product_category_1  \\\n",
       "0                           2               0                   3   \n",
       "1                           2               0                   1   \n",
       "\n",
       "   product_category_2  product_category_3  purchase  \n",
       "0                 NaN                 NaN      8370  \n",
       "1                 6.0                14.0     15200  "
      ]
     },
     "execution_count": 18,
     "metadata": {},
     "output_type": "execute_result"
    }
   ],
   "source": [
    "bfs.head(2)"
   ]
  },
  {
   "cell_type": "markdown",
   "id": "02e591da",
   "metadata": {
    "papermill": {
     "duration": 0.013851,
     "end_time": "2025-02-09T10:44:24.569722",
     "exception": false,
     "start_time": "2025-02-09T10:44:24.555871",
     "status": "completed"
    },
    "tags": []
   },
   "source": [
    "We have three product category columns, product_category_1, product_category_2, and product_category_3 which are nothing but the different varieties of products.\n",
    "\n",
    "Ex.:\n",
    "\n",
    "We can assume that **product_category_1 has Electronics items**, **product_category_2 has Cloths & Grarments**, **product_category_3 has Grocery**."
   ]
  },
  {
   "cell_type": "code",
   "execution_count": 19,
   "id": "926179c4",
   "metadata": {
    "execution": {
     "iopub.execute_input": "2025-02-09T10:44:24.599428Z",
     "iopub.status.busy": "2025-02-09T10:44:24.599031Z",
     "iopub.status.idle": "2025-02-09T10:44:24.624254Z",
     "shell.execute_reply": "2025-02-09T10:44:24.622879Z"
    },
    "papermill": {
     "duration": 0.042316,
     "end_time": "2025-02-09T10:44:24.626205",
     "exception": false,
     "start_time": "2025-02-09T10:44:24.583889",
     "status": "completed"
    },
    "tags": []
   },
   "outputs": [
    {
     "name": "stdout",
     "output_type": "stream",
     "text": [
      "<class 'pandas.core.frame.DataFrame'>\n",
      "RangeIndex: 550068 entries, 0 to 550067\n",
      "Data columns (total 3 columns):\n",
      " #   Column              Non-Null Count   Dtype  \n",
      "---  ------              --------------   -----  \n",
      " 0   product_category_1  550068 non-null  int64  \n",
      " 1   product_category_2  376430 non-null  float64\n",
      " 2   product_category_3  166821 non-null  float64\n",
      "dtypes: float64(2), int64(1)\n",
      "memory usage: 12.6 MB\n"
     ]
    }
   ],
   "source": [
    "bfs[['product_category_1','product_category_2','product_category_3']].info()"
   ]
  },
  {
   "cell_type": "markdown",
   "id": "1bdba6d0",
   "metadata": {
    "papermill": {
     "duration": 0.014287,
     "end_time": "2025-02-09T10:44:24.655509",
     "exception": false,
     "start_time": "2025-02-09T10:44:24.641222",
     "status": "completed"
    },
    "tags": []
   },
   "source": [
    "Notice that product category having NaN values or empty values. Let's try to fill them by seeing the other column's info."
   ]
  },
  {
   "cell_type": "code",
   "execution_count": 20,
   "id": "0046f6c3",
   "metadata": {
    "execution": {
     "iopub.execute_input": "2025-02-09T10:44:24.685326Z",
     "iopub.status.busy": "2025-02-09T10:44:24.685002Z",
     "iopub.status.idle": "2025-02-09T10:44:24.698437Z",
     "shell.execute_reply": "2025-02-09T10:44:24.697252Z"
    },
    "papermill": {
     "duration": 0.030567,
     "end_time": "2025-02-09T10:44:24.700253",
     "exception": false,
     "start_time": "2025-02-09T10:44:24.669686",
     "status": "completed"
    },
    "tags": []
   },
   "outputs": [
    {
     "data": {
      "text/html": [
       "<div>\n",
       "<style scoped>\n",
       "    .dataframe tbody tr th:only-of-type {\n",
       "        vertical-align: middle;\n",
       "    }\n",
       "\n",
       "    .dataframe tbody tr th {\n",
       "        vertical-align: top;\n",
       "    }\n",
       "\n",
       "    .dataframe thead th {\n",
       "        text-align: right;\n",
       "    }\n",
       "</style>\n",
       "<table border=\"1\" class=\"dataframe\">\n",
       "  <thead>\n",
       "    <tr style=\"text-align: right;\">\n",
       "      <th></th>\n",
       "      <th>user_id</th>\n",
       "      <th>product_id</th>\n",
       "      <th>gender</th>\n",
       "      <th>age</th>\n",
       "      <th>occupation</th>\n",
       "      <th>city_category</th>\n",
       "      <th>stay_in_current_city_years</th>\n",
       "      <th>marital_status</th>\n",
       "      <th>product_category_1</th>\n",
       "      <th>product_category_2</th>\n",
       "      <th>product_category_3</th>\n",
       "      <th>purchase</th>\n",
       "    </tr>\n",
       "  </thead>\n",
       "  <tbody>\n",
       "    <tr>\n",
       "      <th>0</th>\n",
       "      <td>1000001</td>\n",
       "      <td>P00069042</td>\n",
       "      <td>F</td>\n",
       "      <td>0-17</td>\n",
       "      <td>10</td>\n",
       "      <td>A</td>\n",
       "      <td>2</td>\n",
       "      <td>0</td>\n",
       "      <td>3</td>\n",
       "      <td>NaN</td>\n",
       "      <td>NaN</td>\n",
       "      <td>8370</td>\n",
       "    </tr>\n",
       "    <tr>\n",
       "      <th>1</th>\n",
       "      <td>1000001</td>\n",
       "      <td>P00248942</td>\n",
       "      <td>F</td>\n",
       "      <td>0-17</td>\n",
       "      <td>10</td>\n",
       "      <td>A</td>\n",
       "      <td>2</td>\n",
       "      <td>0</td>\n",
       "      <td>1</td>\n",
       "      <td>6.0</td>\n",
       "      <td>14.0</td>\n",
       "      <td>15200</td>\n",
       "    </tr>\n",
       "  </tbody>\n",
       "</table>\n",
       "</div>"
      ],
      "text/plain": [
       "   user_id product_id gender   age  occupation city_category  \\\n",
       "0  1000001  P00069042      F  0-17          10             A   \n",
       "1  1000001  P00248942      F  0-17          10             A   \n",
       "\n",
       "   stay_in_current_city_years  marital_status  product_category_1  \\\n",
       "0                           2               0                   3   \n",
       "1                           2               0                   1   \n",
       "\n",
       "   product_category_2  product_category_3  purchase  \n",
       "0                 NaN                 NaN      8370  \n",
       "1                 6.0                14.0     15200  "
      ]
     },
     "execution_count": 20,
     "metadata": {},
     "output_type": "execute_result"
    }
   ],
   "source": [
    "bfs.head(2)"
   ]
  },
  {
   "cell_type": "markdown",
   "id": "d1172b7b",
   "metadata": {
    "papermill": {
     "duration": 0.014477,
     "end_time": "2025-02-09T10:44:24.729647",
     "exception": false,
     "start_time": "2025-02-09T10:44:24.715170",
     "status": "completed"
    },
    "tags": []
   },
   "source": [
    "See we have two columns: gender and occupation. By seeing these two columns, we can analyze which column is giving us useful values to fill the NaN values of product categories.\n",
    "\n",
    "Ex.:\n",
    "\n",
    "* By seeing the '**age**' column, we can analyze which product category is mostly used by the particular age of customer, and we can fill that category value in place of nan values.\n",
    "* By seeing the '**occupation**' column, we can analyze which product category is mostly used by the particular customers, depending on their occupation, and we can fill that category value in place of NaN values.\n",
    "\n",
    "In the next steps, let's see which column is giving us the most useful values."
   ]
  },
  {
   "cell_type": "code",
   "execution_count": 21,
   "id": "b34058a5",
   "metadata": {
    "execution": {
     "iopub.execute_input": "2025-02-09T10:44:24.759952Z",
     "iopub.status.busy": "2025-02-09T10:44:24.759466Z",
     "iopub.status.idle": "2025-02-09T10:44:24.931337Z",
     "shell.execute_reply": "2025-02-09T10:44:24.930048Z"
    },
    "papermill": {
     "duration": 0.189463,
     "end_time": "2025-02-09T10:44:24.933404",
     "exception": false,
     "start_time": "2025-02-09T10:44:24.743941",
     "status": "completed"
    },
    "tags": []
   },
   "outputs": [],
   "source": [
    "a=bfs.groupby('age')['product_category_2'].agg(pd.Series.mode)\n",
    "b=bfs.groupby('age')['product_category_3'].agg(pd.Series.mode)\n",
    "c=bfs.groupby('occupation')['product_category_2'].agg(pd.Series.mode)\n",
    "d=bfs.groupby('occupation')['product_category_3'].agg(pd.Series.mode)# mode gives us a most repeated value"
   ]
  },
  {
   "cell_type": "code",
   "execution_count": 22,
   "id": "26033774",
   "metadata": {
    "execution": {
     "iopub.execute_input": "2025-02-09T10:44:24.963848Z",
     "iopub.status.busy": "2025-02-09T10:44:24.963386Z",
     "iopub.status.idle": "2025-02-09T10:44:25.001298Z",
     "shell.execute_reply": "2025-02-09T10:44:24.999482Z"
    },
    "papermill": {
     "duration": 0.055381,
     "end_time": "2025-02-09T10:44:25.003325",
     "exception": false,
     "start_time": "2025-02-09T10:44:24.947944",
     "status": "completed"
    },
    "tags": []
   },
   "outputs": [
    {
     "data": {
      "text/plain": [
       "age\n",
       "0-17     4.0\n",
       "18-25    8.0\n",
       "26-35    8.0\n",
       "36-45    8.0\n",
       "46-50    8.0\n",
       "51-55    8.0\n",
       "55+      8.0\n",
       "Name: product_category_2, dtype: float64"
      ]
     },
     "execution_count": 22,
     "metadata": {},
     "output_type": "execute_result"
    }
   ],
   "source": [
    "c=bfs.groupby('occupation')['product_category_2'].agg(pd.Series.mode)\n",
    "a"
   ]
  },
  {
   "cell_type": "code",
   "execution_count": 23,
   "id": "28a4aef8",
   "metadata": {
    "execution": {
     "iopub.execute_input": "2025-02-09T10:44:25.034023Z",
     "iopub.status.busy": "2025-02-09T10:44:25.033561Z",
     "iopub.status.idle": "2025-02-09T10:44:26.131697Z",
     "shell.execute_reply": "2025-02-09T10:44:26.130606Z"
    },
    "papermill": {
     "duration": 1.115525,
     "end_time": "2025-02-09T10:44:26.133569",
     "exception": false,
     "start_time": "2025-02-09T10:44:25.018044",
     "status": "completed"
    },
    "tags": []
   },
   "outputs": [
    {
     "data": {
      "image/png": "[encoded data removed]",
      "text/plain": [
       "<Figure size 1800x1000 with 4 Axes>"
      ]
     },
     "metadata": {},
     "output_type": "display_data"
    }
   ],
   "source": [
    "plt.figure(figsize=(18,10))\n",
    "plt.subplots_adjust(left=0.1,\n",
    "                    bottom=0.1,\n",
    "                    right=0.9,\n",
    "                    top=0.9,\n",
    "                    wspace=0.4,\n",
    "                    hspace=0.4)\n",
    "plt.subplot(2,2,1)\n",
    "a.plot(kind='bar',title=\"age_vs_product_category_2\")\n",
    "plt.subplot(2,2,2)\n",
    "b.plot(kind='bar',title=\"age_vs_product_category_3\")\n",
    "plt.subplot(2,2,3)\n",
    "c.plot(kind='bar',title=\"occupation_vs_product_category_2\")\n",
    "plt.subplot(2,2,4)\n",
    "d.plot(kind='bar',title=\"occupation_vs_product_category_3\")\n",
    "plt.show()\n",
    "\n",
    "# here we trying to fill only product_category_2 and product_category_3 NaN values because product_category_1 having 0 NaN values."
   ]
  },
  {
   "cell_type": "markdown",
   "id": "fa07e01c",
   "metadata": {
    "papermill": {
     "duration": 0.016205,
     "end_time": "2025-02-09T10:44:26.166532",
     "exception": false,
     "start_time": "2025-02-09T10:44:26.150327",
     "status": "completed"
    },
    "tags": []
   },
   "source": [
    "By comparing both the '**age**' and '**occupation**' columns, we can see that **on the basis of occupation, we are getting more and different product categories, which are mostly repeated.** \n",
    "\n",
    "So, **we can fill the nan product_category values corresponding to customer occupation.**\n",
    "\n",
    "In the next step to fill these NaN values, let's try to write a function that we can use for each product_category.\n",
    "\n",
    "* Instead of repeating the code for each product_category, we can use the code reusability concept here."
   ]
  },
  {
   "cell_type": "code",
   "execution_count": 24,
   "id": "0f44e865",
   "metadata": {
    "execution": {
     "iopub.execute_input": "2025-02-09T10:44:26.199499Z",
     "iopub.status.busy": "2025-02-09T10:44:26.199157Z",
     "iopub.status.idle": "2025-02-09T10:44:26.204466Z",
     "shell.execute_reply": "2025-02-09T10:44:26.203482Z"
    },
    "papermill": {
     "duration": 0.024018,
     "end_time": "2025-02-09T10:44:26.206329",
     "exception": false,
     "start_time": "2025-02-09T10:44:26.182311",
     "status": "completed"
    },
    "tags": []
   },
   "outputs": [],
   "source": [
    "def fill_nan_category(category_colunm):\n",
    "    x=bfs.groupby('occupation')[category_colunm].agg(pd.Series.mode)\n",
    "    for i,j in zip(x.index,x):\n",
    "        bfs.loc[bfs['occupation']==i,category_colunm]=bfs.loc[bfs['occupation']==i,category_colunm].fillna(j)"
   ]
  },
  {
   "cell_type": "code",
   "execution_count": 25,
   "id": "55b3327e",
   "metadata": {
    "execution": {
     "iopub.execute_input": "2025-02-09T10:44:26.239975Z",
     "iopub.status.busy": "2025-02-09T10:44:26.239509Z",
     "iopub.status.idle": "2025-02-09T10:44:26.662257Z",
     "shell.execute_reply": "2025-02-09T10:44:26.661026Z"
    },
    "papermill": {
     "duration": 0.441962,
     "end_time": "2025-02-09T10:44:26.664406",
     "exception": false,
     "start_time": "2025-02-09T10:44:26.222444",
     "status": "completed"
    },
    "tags": []
   },
   "outputs": [],
   "source": [
    "fill_nan_category('product_category_1')\n",
    "fill_nan_category('product_category_2')\n",
    "fill_nan_category('product_category_3')\n",
    "bfs.product_category_1=bfs.product_category_1.astype(float)"
   ]
  },
  {
   "cell_type": "code",
   "execution_count": 26,
   "id": "aa980ed8",
   "metadata": {
    "execution": {
     "iopub.execute_input": "2025-02-09T10:44:26.698896Z",
     "iopub.status.busy": "2025-02-09T10:44:26.698413Z",
     "iopub.status.idle": "2025-02-09T10:44:26.720607Z",
     "shell.execute_reply": "2025-02-09T10:44:26.719116Z"
    },
    "papermill": {
     "duration": 0.041574,
     "end_time": "2025-02-09T10:44:26.722520",
     "exception": false,
     "start_time": "2025-02-09T10:44:26.680946",
     "status": "completed"
    },
    "tags": []
   },
   "outputs": [
    {
     "name": "stdout",
     "output_type": "stream",
     "text": [
      "<class 'pandas.core.frame.DataFrame'>\n",
      "RangeIndex: 550068 entries, 0 to 550067\n",
      "Data columns (total 3 columns):\n",
      " #   Column              Non-Null Count   Dtype  \n",
      "---  ------              --------------   -----  \n",
      " 0   product_category_1  550068 non-null  float64\n",
      " 1   product_category_2  550068 non-null  float64\n",
      " 2   product_category_3  550068 non-null  float64\n",
      "dtypes: float64(3)\n",
      "memory usage: 12.6 MB\n"
     ]
    }
   ],
   "source": [
    "bfs[['product_category_1','product_category_2','product_category_3']].info()"
   ]
  },
  {
   "cell_type": "markdown",
   "id": "a151d148",
   "metadata": {
    "papermill": {
     "duration": 0.016482,
     "end_time": "2025-02-09T10:44:26.755482",
     "exception": false,
     "start_time": "2025-02-09T10:44:26.739000",
     "status": "completed"
    },
    "tags": []
   },
   "source": [
    "Here, see we successfully filled the NaN values with proper data. \n",
    "##### **In this concept, I hope you understood how we can fill the NaN values by analysing and comparing corresponding columns. And where we can use the code reusability concept.**"
   ]
  },
  {
   "cell_type": "markdown",
   "id": "accc494f",
   "metadata": {
    "papermill": {
     "duration": 0.01538,
     "end_time": "2025-02-09T10:44:26.787250",
     "exception": false,
     "start_time": "2025-02-09T10:44:26.771870",
     "status": "completed"
    },
    "tags": []
   },
   "source": [
    "### Purchase:\n",
    "\n",
    "Contains the purchase value for the product by the customer."
   ]
  },
  {
   "cell_type": "code",
   "execution_count": 27,
   "id": "e0048d17",
   "metadata": {
    "execution": {
     "iopub.execute_input": "2025-02-09T10:44:26.820585Z",
     "iopub.status.busy": "2025-02-09T10:44:26.820155Z",
     "iopub.status.idle": "2025-02-09T10:44:26.834547Z",
     "shell.execute_reply": "2025-02-09T10:44:26.833370Z"
    },
    "papermill": {
     "duration": 0.033497,
     "end_time": "2025-02-09T10:44:26.836349",
     "exception": false,
     "start_time": "2025-02-09T10:44:26.802852",
     "status": "completed"
    },
    "tags": []
   },
   "outputs": [
    {
     "data": {
      "text/plain": [
       "(array([ 8370, 15200,  1422, ...,   135,   123,   613]), 550068)"
      ]
     },
     "execution_count": 27,
     "metadata": {},
     "output_type": "execute_result"
    }
   ],
   "source": [
    "bfs.purchase.unique(),bfs.purchase.isnull().count()"
   ]
  },
  {
   "cell_type": "code",
   "execution_count": 28,
   "id": "b56488e6",
   "metadata": {
    "execution": {
     "iopub.execute_input": "2025-02-09T10:44:26.869590Z",
     "iopub.status.busy": "2025-02-09T10:44:26.869171Z",
     "iopub.status.idle": "2025-02-09T10:44:26.996494Z",
     "shell.execute_reply": "2025-02-09T10:44:26.995081Z"
    },
    "papermill": {
     "duration": 0.14601,
     "end_time": "2025-02-09T10:44:26.998253",
     "exception": false,
     "start_time": "2025-02-09T10:44:26.852243",
     "status": "completed"
    },
    "tags": []
   },
   "outputs": [
    {
     "name": "stdout",
     "output_type": "stream",
     "text": [
      "<class 'pandas.core.frame.DataFrame'>\n",
      "RangeIndex: 550068 entries, 0 to 550067\n",
      "Data columns (total 12 columns):\n",
      " #   Column                      Non-Null Count   Dtype  \n",
      "---  ------                      --------------   -----  \n",
      " 0   user_id                     550068 non-null  int64  \n",
      " 1   product_id                  550068 non-null  object \n",
      " 2   gender                      550068 non-null  object \n",
      " 3   age                         550068 non-null  object \n",
      " 4   occupation                  550068 non-null  int64  \n",
      " 5   city_category               550068 non-null  object \n",
      " 6   stay_in_current_city_years  550068 non-null  int64  \n",
      " 7   marital_status              550068 non-null  int64  \n",
      " 8   product_category_1          550068 non-null  float64\n",
      " 9   product_category_2          550068 non-null  float64\n",
      " 10  product_category_3          550068 non-null  float64\n",
      " 11  purchase                    550068 non-null  int64  \n",
      "dtypes: float64(3), int64(5), object(4)\n",
      "memory usage: 50.4+ MB\n"
     ]
    }
   ],
   "source": [
    "bfs.info()"
   ]
  },
  {
   "cell_type": "code",
   "execution_count": 29,
   "id": "ee664f43",
   "metadata": {
    "execution": {
     "iopub.execute_input": "2025-02-09T10:44:27.032650Z",
     "iopub.status.busy": "2025-02-09T10:44:27.032231Z",
     "iopub.status.idle": "2025-02-09T10:44:27.047281Z",
     "shell.execute_reply": "2025-02-09T10:44:27.046244Z"
    },
    "papermill": {
     "duration": 0.034581,
     "end_time": "2025-02-09T10:44:27.049217",
     "exception": false,
     "start_time": "2025-02-09T10:44:27.014636",
     "status": "completed"
    },
    "tags": []
   },
   "outputs": [
    {
     "data": {
      "text/html": [
       "<div>\n",
       "<style scoped>\n",
       "    .dataframe tbody tr th:only-of-type {\n",
       "        vertical-align: middle;\n",
       "    }\n",
       "\n",
       "    .dataframe tbody tr th {\n",
       "        vertical-align: top;\n",
       "    }\n",
       "\n",
       "    .dataframe thead th {\n",
       "        text-align: right;\n",
       "    }\n",
       "</style>\n",
       "<table border=\"1\" class=\"dataframe\">\n",
       "  <thead>\n",
       "    <tr style=\"text-align: right;\">\n",
       "      <th></th>\n",
       "      <th>user_id</th>\n",
       "      <th>product_id</th>\n",
       "      <th>gender</th>\n",
       "      <th>age</th>\n",
       "      <th>occupation</th>\n",
       "      <th>city_category</th>\n",
       "      <th>stay_in_current_city_years</th>\n",
       "      <th>marital_status</th>\n",
       "      <th>product_category_1</th>\n",
       "      <th>product_category_2</th>\n",
       "      <th>product_category_3</th>\n",
       "      <th>purchase</th>\n",
       "    </tr>\n",
       "  </thead>\n",
       "  <tbody>\n",
       "    <tr>\n",
       "      <th>0</th>\n",
       "      <td>1000001</td>\n",
       "      <td>P00069042</td>\n",
       "      <td>F</td>\n",
       "      <td>0-17</td>\n",
       "      <td>10</td>\n",
       "      <td>A</td>\n",
       "      <td>2</td>\n",
       "      <td>0</td>\n",
       "      <td>3.0</td>\n",
       "      <td>4.0</td>\n",
       "      <td>16.0</td>\n",
       "      <td>8370</td>\n",
       "    </tr>\n",
       "    <tr>\n",
       "      <th>1</th>\n",
       "      <td>1000001</td>\n",
       "      <td>P00248942</td>\n",
       "      <td>F</td>\n",
       "      <td>0-17</td>\n",
       "      <td>10</td>\n",
       "      <td>A</td>\n",
       "      <td>2</td>\n",
       "      <td>0</td>\n",
       "      <td>1.0</td>\n",
       "      <td>6.0</td>\n",
       "      <td>14.0</td>\n",
       "      <td>15200</td>\n",
       "    </tr>\n",
       "    <tr>\n",
       "      <th>2</th>\n",
       "      <td>1000001</td>\n",
       "      <td>P00087842</td>\n",
       "      <td>F</td>\n",
       "      <td>0-17</td>\n",
       "      <td>10</td>\n",
       "      <td>A</td>\n",
       "      <td>2</td>\n",
       "      <td>0</td>\n",
       "      <td>12.0</td>\n",
       "      <td>4.0</td>\n",
       "      <td>16.0</td>\n",
       "      <td>1422</td>\n",
       "    </tr>\n",
       "    <tr>\n",
       "      <th>3</th>\n",
       "      <td>1000001</td>\n",
       "      <td>P00085442</td>\n",
       "      <td>F</td>\n",
       "      <td>0-17</td>\n",
       "      <td>10</td>\n",
       "      <td>A</td>\n",
       "      <td>2</td>\n",
       "      <td>0</td>\n",
       "      <td>12.0</td>\n",
       "      <td>14.0</td>\n",
       "      <td>16.0</td>\n",
       "      <td>1057</td>\n",
       "    </tr>\n",
       "    <tr>\n",
       "      <th>4</th>\n",
       "      <td>1000002</td>\n",
       "      <td>P00285442</td>\n",
       "      <td>M</td>\n",
       "      <td>55+</td>\n",
       "      <td>16</td>\n",
       "      <td>C</td>\n",
       "      <td>4</td>\n",
       "      <td>0</td>\n",
       "      <td>8.0</td>\n",
       "      <td>8.0</td>\n",
       "      <td>16.0</td>\n",
       "      <td>7969</td>\n",
       "    </tr>\n",
       "  </tbody>\n",
       "</table>\n",
       "</div>"
      ],
      "text/plain": [
       "   user_id product_id gender   age  occupation city_category  \\\n",
       "0  1000001  P00069042      F  0-17          10             A   \n",
       "1  1000001  P00248942      F  0-17          10             A   \n",
       "2  1000001  P00087842      F  0-17          10             A   \n",
       "3  1000001  P00085442      F  0-17          10             A   \n",
       "4  1000002  P00285442      M   55+          16             C   \n",
       "\n",
       "   stay_in_current_city_years  marital_status  product_category_1  \\\n",
       "0                           2               0                 3.0   \n",
       "1                           2               0                 1.0   \n",
       "2                           2               0                12.0   \n",
       "3                           2               0                12.0   \n",
       "4                           4               0                 8.0   \n",
       "\n",
       "   product_category_2  product_category_3  purchase  \n",
       "0                 4.0                16.0      8370  \n",
       "1                 6.0                14.0     15200  \n",
       "2                 4.0                16.0      1422  \n",
       "3                14.0                16.0      1057  \n",
       "4                 8.0                16.0      7969  "
      ]
     },
     "execution_count": 29,
     "metadata": {},
     "output_type": "execute_result"
    }
   ],
   "source": [
    "bfs.head()"
   ]
  },
  {
   "cell_type": "code",
   "execution_count": 30,
   "id": "dc2fd526",
   "metadata": {
    "execution": {
     "iopub.execute_input": "2025-02-09T10:44:27.084028Z",
     "iopub.status.busy": "2025-02-09T10:44:27.083597Z",
     "iopub.status.idle": "2025-02-09T10:44:29.568298Z",
     "shell.execute_reply": "2025-02-09T10:44:29.567083Z"
    },
    "papermill": {
     "duration": 2.504515,
     "end_time": "2025-02-09T10:44:29.570497",
     "exception": false,
     "start_time": "2025-02-09T10:44:27.065982",
     "status": "completed"
    },
    "tags": []
   },
   "outputs": [],
   "source": [
    "bfs.to_csv('./bfs_clean_data.csv') # Saivng cleaned dataset in output directory."
   ]
  },
  {
   "cell_type": "markdown",
   "id": "87fd7e5d",
   "metadata": {
    "papermill": {
     "duration": 0.01573,
     "end_time": "2025-02-09T10:44:29.603825",
     "exception": false,
     "start_time": "2025-02-09T10:44:29.588095",
     "status": "completed"
    },
    "tags": []
   },
   "source": [
    "Therefore, we cleaned our data successfully without losing a single value; we got a total of 550068 values.\n",
    "\n",
    "If you have more cleaning ideas on this dataset, place them in comments or in the discussion."
   ]
  },
  {
   "cell_type": "markdown",
   "id": "decede23",
   "metadata": {
    "papermill": {
     "duration": 0.015715,
     "end_time": "2025-02-09T10:44:29.635936",
     "exception": false,
     "start_time": "2025-02-09T10:44:29.620221",
     "status": "completed"
    },
    "tags": []
   },
   "source": [
    "## Data Visualization"
   ]
  },
  {
   "cell_type": "code",
   "execution_count": 31,
   "id": "00c04a3e",
   "metadata": {
    "execution": {
     "iopub.execute_input": "2025-02-09T10:44:29.671556Z",
     "iopub.status.busy": "2025-02-09T10:44:29.671080Z",
     "iopub.status.idle": "2025-02-09T10:44:29.685816Z",
     "shell.execute_reply": "2025-02-09T10:44:29.684534Z"
    },
    "papermill": {
     "duration": 0.03362,
     "end_time": "2025-02-09T10:44:29.687466",
     "exception": false,
     "start_time": "2025-02-09T10:44:29.653846",
     "status": "completed"
    },
    "tags": []
   },
   "outputs": [
    {
     "data": {
      "text/html": [
       "<div>\n",
       "<style scoped>\n",
       "    .dataframe tbody tr th:only-of-type {\n",
       "        vertical-align: middle;\n",
       "    }\n",
       "\n",
       "    .dataframe tbody tr th {\n",
       "        vertical-align: top;\n",
       "    }\n",
       "\n",
       "    .dataframe thead th {\n",
       "        text-align: right;\n",
       "    }\n",
       "</style>\n",
       "<table border=\"1\" class=\"dataframe\">\n",
       "  <thead>\n",
       "    <tr style=\"text-align: right;\">\n",
       "      <th></th>\n",
       "      <th>user_id</th>\n",
       "      <th>product_id</th>\n",
       "      <th>gender</th>\n",
       "      <th>age</th>\n",
       "      <th>occupation</th>\n",
       "      <th>city_category</th>\n",
       "      <th>stay_in_current_city_years</th>\n",
       "      <th>marital_status</th>\n",
       "      <th>product_category_1</th>\n",
       "      <th>product_category_2</th>\n",
       "      <th>product_category_3</th>\n",
       "      <th>purchase</th>\n",
       "    </tr>\n",
       "  </thead>\n",
       "  <tbody>\n",
       "    <tr>\n",
       "      <th>0</th>\n",
       "      <td>1000001</td>\n",
       "      <td>P00069042</td>\n",
       "      <td>F</td>\n",
       "      <td>0-17</td>\n",
       "      <td>10</td>\n",
       "      <td>A</td>\n",
       "      <td>2</td>\n",
       "      <td>0</td>\n",
       "      <td>3.0</td>\n",
       "      <td>4.0</td>\n",
       "      <td>16.0</td>\n",
       "      <td>8370</td>\n",
       "    </tr>\n",
       "    <tr>\n",
       "      <th>1</th>\n",
       "      <td>1000001</td>\n",
       "      <td>P00248942</td>\n",
       "      <td>F</td>\n",
       "      <td>0-17</td>\n",
       "      <td>10</td>\n",
       "      <td>A</td>\n",
       "      <td>2</td>\n",
       "      <td>0</td>\n",
       "      <td>1.0</td>\n",
       "      <td>6.0</td>\n",
       "      <td>14.0</td>\n",
       "      <td>15200</td>\n",
       "    </tr>\n",
       "    <tr>\n",
       "      <th>2</th>\n",
       "      <td>1000001</td>\n",
       "      <td>P00087842</td>\n",
       "      <td>F</td>\n",
       "      <td>0-17</td>\n",
       "      <td>10</td>\n",
       "      <td>A</td>\n",
       "      <td>2</td>\n",
       "      <td>0</td>\n",
       "      <td>12.0</td>\n",
       "      <td>4.0</td>\n",
       "      <td>16.0</td>\n",
       "      <td>1422</td>\n",
       "    </tr>\n",
       "    <tr>\n",
       "      <th>3</th>\n",
       "      <td>1000001</td>\n",
       "      <td>P00085442</td>\n",
       "      <td>F</td>\n",
       "      <td>0-17</td>\n",
       "      <td>10</td>\n",
       "      <td>A</td>\n",
       "      <td>2</td>\n",
       "      <td>0</td>\n",
       "      <td>12.0</td>\n",
       "      <td>14.0</td>\n",
       "      <td>16.0</td>\n",
       "      <td>1057</td>\n",
       "    </tr>\n",
       "    <tr>\n",
       "      <th>4</th>\n",
       "      <td>1000002</td>\n",
       "      <td>P00285442</td>\n",
       "      <td>M</td>\n",
       "      <td>55+</td>\n",
       "      <td>16</td>\n",
       "      <td>C</td>\n",
       "      <td>4</td>\n",
       "      <td>0</td>\n",
       "      <td>8.0</td>\n",
       "      <td>8.0</td>\n",
       "      <td>16.0</td>\n",
       "      <td>7969</td>\n",
       "    </tr>\n",
       "  </tbody>\n",
       "</table>\n",
       "</div>"
      ],
      "text/plain": [
       "   user_id product_id gender   age  occupation city_category  \\\n",
       "0  1000001  P00069042      F  0-17          10             A   \n",
       "1  1000001  P00248942      F  0-17          10             A   \n",
       "2  1000001  P00087842      F  0-17          10             A   \n",
       "3  1000001  P00085442      F  0-17          10             A   \n",
       "4  1000002  P00285442      M   55+          16             C   \n",
       "\n",
       "   stay_in_current_city_years  marital_status  product_category_1  \\\n",
       "0                           2               0                 3.0   \n",
       "1                           2               0                 1.0   \n",
       "2                           2               0                12.0   \n",
       "3                           2               0                12.0   \n",
       "4                           4               0                 8.0   \n",
       "\n",
       "   product_category_2  product_category_3  purchase  \n",
       "0                 4.0                16.0      8370  \n",
       "1                 6.0                14.0     15200  \n",
       "2                 4.0                16.0      1422  \n",
       "3                14.0                16.0      1057  \n",
       "4                 8.0                16.0      7969  "
      ]
     },
     "execution_count": 31,
     "metadata": {},
     "output_type": "execute_result"
    }
   ],
   "source": [
    "bfs.head()"
   ]
  },
  {
   "cell_type": "markdown",
   "id": "6c65e701",
   "metadata": {
    "papermill": {
     "duration": 0.015961,
     "end_time": "2025-02-09T10:44:29.720046",
     "exception": false,
     "start_time": "2025-02-09T10:44:29.704085",
     "status": "completed"
    },
    "tags": []
   },
   "source": [
    "### 1) Check Distribution and Outliers of 'purchase'"
   ]
  },
  {
   "cell_type": "code",
   "execution_count": 32,
   "id": "a56a0c63",
   "metadata": {
    "execution": {
     "iopub.execute_input": "2025-02-09T10:44:29.754024Z",
     "iopub.status.busy": "2025-02-09T10:44:29.753555Z",
     "iopub.status.idle": "2025-02-09T10:44:32.373831Z",
     "shell.execute_reply": "2025-02-09T10:44:32.372673Z"
    },
    "papermill": {
     "duration": 2.640915,
     "end_time": "2025-02-09T10:44:32.377148",
     "exception": false,
     "start_time": "2025-02-09T10:44:29.736233",
     "status": "completed"
    },
    "tags": []
   },
   "outputs": [
    {
     "data": {
      "image/png": "[encoded data removed]",
      "text/plain": [
       "<Figure size 1500x500 with 2 Axes>"
      ]
     },
     "metadata": {},
     "output_type": "display_data"
    }
   ],
   "source": [
    "plt.figure(figsize=(15,5))\n",
    "plt.subplots_adjust(left=0.1,\n",
    "                    bottom=0.1,\n",
    "                    right=1,\n",
    "                    top=0.9,\n",
    "                    wspace=0.4,\n",
    "                    hspace=0.4)\n",
    "plt.subplot(1,2,1)\n",
    "sns.kdeplot(x='purchase',data=bfs)\n",
    "plt.subplot(1,2,2)\n",
    "sns.boxplot(y='purchase',data=bfs)\n",
    "plt.show()"
   ]
  },
  {
   "cell_type": "markdown",
   "id": "8bb32f64",
   "metadata": {
    "papermill": {
     "duration": 0.020374,
     "end_time": "2025-02-09T10:44:32.423967",
     "exception": false,
     "start_time": "2025-02-09T10:44:32.403593",
     "status": "completed"
    },
    "tags": []
   },
   "source": [
    "We observed that most of the purchase value is between 5000 and 10000.  "
   ]
  },
  {
   "cell_type": "markdown",
   "id": "d801f8fb",
   "metadata": {
    "papermill": {
     "duration": 0.017945,
     "end_time": "2025-02-09T10:44:32.460477",
     "exception": false,
     "start_time": "2025-02-09T10:44:32.442532",
     "status": "completed"
    },
    "tags": []
   },
   "source": [
    "## Get purchase details of Male and Female customers? {'M','F'}."
   ]
  },
  {
   "cell_type": "markdown",
   "id": "67ff19ee",
   "metadata": {
    "papermill": {
     "duration": 0.017945,
     "end_time": "2025-02-09T10:44:32.496869",
     "exception": false,
     "start_time": "2025-02-09T10:44:32.478924",
     "status": "completed"
    },
    "tags": []
   },
   "source": [
    "#### 2) Find which kind of customer visits more frequently. Male or Female? {'M','F'}."
   ]
  },
  {
   "cell_type": "code",
   "execution_count": 33,
   "id": "e32cf359",
   "metadata": {
    "execution": {
     "iopub.execute_input": "2025-02-09T10:44:32.535401Z",
     "iopub.status.busy": "2025-02-09T10:44:32.534924Z",
     "iopub.status.idle": "2025-02-09T10:44:32.736188Z",
     "shell.execute_reply": "2025-02-09T10:44:32.734910Z"
    },
    "papermill": {
     "duration": 0.222728,
     "end_time": "2025-02-09T10:44:32.738169",
     "exception": false,
     "start_time": "2025-02-09T10:44:32.515441",
     "status": "completed"
    },
    "tags": []
   },
   "outputs": [
    {
     "data": {
      "image/png": "[encoded data removed]",
      "text/plain": [
       "<Figure size 500x500 with 1 Axes>"
      ]
     },
     "metadata": {},
     "output_type": "display_data"
    }
   ],
   "source": [
    "bfs.groupby('gender').agg({'gender':'count'}).gender.plot(kind='pie',autopct='%1.1f%%',figsize=(5,5),shadow=True)\n",
    "plt.show()"
   ]
  },
  {
   "cell_type": "markdown",
   "id": "1a27dbba",
   "metadata": {
    "papermill": {
     "duration": 0.018433,
     "end_time": "2025-02-09T10:44:32.775623",
     "exception": false,
     "start_time": "2025-02-09T10:44:32.757190",
     "status": "completed"
    },
    "tags": []
   },
   "source": [
    "We see that 75% of male customers visit us frequently."
   ]
  },
  {
   "cell_type": "markdown",
   "id": "632d6ea8",
   "metadata": {
    "papermill": {
     "duration": 0.018683,
     "end_time": "2025-02-09T10:44:32.813630",
     "exception": false,
     "start_time": "2025-02-09T10:44:32.794947",
     "status": "completed"
    },
    "tags": []
   },
   "source": [
    "#### 3) Purchase Distribution of 'Male' and 'Female' Customers."
   ]
  },
  {
   "cell_type": "code",
   "execution_count": 34,
   "id": "972375e0",
   "metadata": {
    "execution": {
     "iopub.execute_input": "2025-02-09T10:44:32.854271Z",
     "iopub.status.busy": "2025-02-09T10:44:32.853860Z",
     "iopub.status.idle": "2025-02-09T10:44:33.505263Z",
     "shell.execute_reply": "2025-02-09T10:44:33.504046Z"
    },
    "papermill": {
     "duration": 0.675184,
     "end_time": "2025-02-09T10:44:33.508035",
     "exception": false,
     "start_time": "2025-02-09T10:44:32.832851",
     "status": "completed"
    },
    "tags": []
   },
   "outputs": [
    {
     "data": {
      "image/png": "[encoded data removed]",
      "text/plain": [
       "<Figure size 1000x400 with 2 Axes>"
      ]
     },
     "metadata": {},
     "output_type": "display_data"
    }
   ],
   "source": [
    "plt.figure(figsize=(10,4))\n",
    "plt.subplots_adjust(left=0.1,\n",
    "                    bottom=0.1,\n",
    "                    right=1.2,\n",
    "                    top=0.9,\n",
    "                    wspace=0.4,\n",
    "                    hspace=0.4)\n",
    "ma=bfs[bfs['gender']=='M'].value_counts('purchase').reset_index()\n",
    "fe=bfs[bfs['gender']=='F'].value_counts('purchase').to_frame()\n",
    "plt.subplot(1,2,1)\n",
    "sns.kdeplot(x='purchase',data=ma).set_title('Male')\n",
    "plt.subplot(1,2,2)\n",
    "sns.kdeplot(x='purchase',data=fe).set_title('Female')\n",
    "plt.show()"
   ]
  },
  {
   "cell_type": "markdown",
   "id": "c277a5d6",
   "metadata": {
    "papermill": {
     "duration": 0.027907,
     "end_time": "2025-02-09T10:44:33.573423",
     "exception": false,
     "start_time": "2025-02-09T10:44:33.545516",
     "status": "completed"
    },
    "tags": []
   },
   "source": [
    "#### 4) Find which kind of customer is purchasing more. Male or Female? {'M','F'}."
   ]
  },
  {
   "cell_type": "code",
   "execution_count": 35,
   "id": "3f5cc831",
   "metadata": {
    "execution": {
     "iopub.execute_input": "2025-02-09T10:44:33.617403Z",
     "iopub.status.busy": "2025-02-09T10:44:33.617022Z",
     "iopub.status.idle": "2025-02-09T10:44:33.806893Z",
     "shell.execute_reply": "2025-02-09T10:44:33.805857Z"
    },
    "papermill": {
     "duration": 0.212256,
     "end_time": "2025-02-09T10:44:33.808675",
     "exception": false,
     "start_time": "2025-02-09T10:44:33.596419",
     "status": "completed"
    },
    "tags": []
   },
   "outputs": [
    {
     "data": {
      "text/html": [
       "<div>\n",
       "<style scoped>\n",
       "    .dataframe tbody tr th:only-of-type {\n",
       "        vertical-align: middle;\n",
       "    }\n",
       "\n",
       "    .dataframe tbody tr th {\n",
       "        vertical-align: top;\n",
       "    }\n",
       "\n",
       "    .dataframe thead th {\n",
       "        text-align: right;\n",
       "    }\n",
       "</style>\n",
       "<table border=\"1\" class=\"dataframe\">\n",
       "  <thead>\n",
       "    <tr style=\"text-align: right;\">\n",
       "      <th></th>\n",
       "      <th>gender</th>\n",
       "      <th>purchase</th>\n",
       "    </tr>\n",
       "  </thead>\n",
       "  <tbody>\n",
       "    <tr>\n",
       "      <th>0</th>\n",
       "      <td>F</td>\n",
       "      <td>1186232642</td>\n",
       "    </tr>\n",
       "    <tr>\n",
       "      <th>1</th>\n",
       "      <td>M</td>\n",
       "      <td>3909580100</td>\n",
       "    </tr>\n",
       "  </tbody>\n",
       "</table>\n",
       "</div>"
      ],
      "text/plain": [
       "  gender    purchase\n",
       "0      F  1186232642\n",
       "1      M  3909580100"
      ]
     },
     "execution_count": 35,
     "metadata": {},
     "output_type": "execute_result"
    },
    {
     "data": {
      "image/png": "[encoded data removed]",
      "text/plain": [
       "<Figure size 640x480 with 1 Axes>"
      ]
     },
     "metadata": {},
     "output_type": "display_data"
    }
   ],
   "source": [
    "p=bfs.groupby('gender').agg({'purchase':sum}).reset_index()\n",
    "sns.barplot(x='gender',y='purchase',data=p)\n",
    "p"
   ]
  },
  {
   "cell_type": "markdown",
   "id": "e8892309",
   "metadata": {
    "papermill": {
     "duration": 0.020802,
     "end_time": "2025-02-09T10:44:33.850501",
     "exception": false,
     "start_time": "2025-02-09T10:44:33.829699",
     "status": "completed"
    },
    "tags": []
   },
   "source": [
    "We observed that 'Male' customers are purchasing more."
   ]
  },
  {
   "cell_type": "markdown",
   "id": "4c66ca1b",
   "metadata": {
    "papermill": {
     "duration": 0.019802,
     "end_time": "2025-02-09T10:44:33.891151",
     "exception": false,
     "start_time": "2025-02-09T10:44:33.871349",
     "status": "completed"
    },
    "tags": []
   },
   "source": [
    "#### 5) Find which product customers are buying most by seeing product_id."
   ]
  },
  {
   "cell_type": "code",
   "execution_count": 36,
   "id": "47c21a18",
   "metadata": {
    "execution": {
     "iopub.execute_input": "2025-02-09T10:44:33.933090Z",
     "iopub.status.busy": "2025-02-09T10:44:33.932661Z",
     "iopub.status.idle": "2025-02-09T10:44:34.489465Z",
     "shell.execute_reply": "2025-02-09T10:44:34.488233Z"
    },
    "papermill": {
     "duration": 0.580089,
     "end_time": "2025-02-09T10:44:34.491527",
     "exception": false,
     "start_time": "2025-02-09T10:44:33.911438",
     "status": "completed"
    },
    "tags": []
   },
   "outputs": [
    {
     "data": {
      "image/png": "[encoded data removed]",
      "text/plain": [
       "<Figure size 500x1000 with 1 Axes>"
      ]
     },
     "metadata": {},
     "output_type": "display_data"
    }
   ],
   "source": [
    "p_id=bfs.value_counts('product_id').sort_values(ascending=False).head(50)\n",
    "plt.figure(figsize=(5,10))\n",
    "sns.barplot(y=p_id.index,x=p_id)\n",
    "plt.show()"
   ]
  },
  {
   "cell_type": "markdown",
   "id": "80c66800",
   "metadata": {
    "papermill": {
     "duration": 0.023151,
     "end_time": "2025-02-09T10:44:34.537050",
     "exception": false,
     "start_time": "2025-02-09T10:44:34.513899",
     "status": "completed"
    },
    "tags": []
   },
   "source": [
    "Here are the 'top 50' product_id's that customers are buying the most."
   ]
  },
  {
   "cell_type": "markdown",
   "id": "9e281dc8",
   "metadata": {
    "papermill": {
     "duration": 0.020963,
     "end_time": "2025-02-09T10:44:34.579230",
     "exception": false,
     "start_time": "2025-02-09T10:44:34.558267",
     "status": "completed"
    },
    "tags": []
   },
   "source": [
    "#### 6) Find 'sub_product' which is selling the most from each product_category and which customer category is buying that product the most? {'M','F'}."
   ]
  },
  {
   "cell_type": "code",
   "execution_count": 37,
   "id": "59875994",
   "metadata": {
    "execution": {
     "iopub.execute_input": "2025-02-09T10:44:34.624616Z",
     "iopub.status.busy": "2025-02-09T10:44:34.624290Z",
     "iopub.status.idle": "2025-02-09T10:44:35.773185Z",
     "shell.execute_reply": "2025-02-09T10:44:35.771860Z"
    },
    "papermill": {
     "duration": 1.173262,
     "end_time": "2025-02-09T10:44:35.774918",
     "exception": false,
     "start_time": "2025-02-09T10:44:34.601656",
     "status": "completed"
    },
    "tags": []
   },
   "outputs": [
    {
     "data": {
      "image/png": "[encoded data removed]",
      "text/plain": [
       "<Figure size 1500x500 with 3 Axes>"
      ]
     },
     "metadata": {},
     "output_type": "display_data"
    }
   ],
   "source": [
    "c1 = bfs.groupby('gender')['product_category_1'].value_counts().reset_index(name='p_count')\n",
    "c2 = bfs.groupby('gender')['product_category_2'].value_counts().reset_index(name='p_count')\n",
    "c3 = bfs.groupby('gender')['product_category_3'].value_counts().reset_index(name='p_count')\n",
    "\n",
    "plt.figure(figsize=(15, 5))\n",
    "plt.subplots_adjust(left=0.1, bottom=0.1, right=1.2, top=0.9, wspace=0.4, hspace=0.4)\n",
    "\n",
    "plt.subplot(1, 3, 1)\n",
    "sns.barplot(x='product_category_1', y='p_count', hue='gender', data=c1)\n",
    "\n",
    "plt.subplot(1, 3, 2)\n",
    "sns.barplot(x='product_category_2', y='p_count', hue='gender', data=c2)\n",
    "\n",
    "plt.subplot(1, 3, 3)\n",
    "sns.barplot(x='product_category_3', y='p_count', hue='gender', data=c3)\n",
    "\n",
    "plt.show()"
   ]
  },
  {
   "cell_type": "markdown",
   "id": "fb93d555",
   "metadata": {
    "papermill": {
     "duration": 0.022377,
     "end_time": "2025-02-09T10:44:35.820729",
     "exception": false,
     "start_time": "2025-02-09T10:44:35.798352",
     "status": "completed"
    },
    "tags": []
   },
   "source": [
    "Here we can see we have three product_categories and on the x-axis we have some values that are nothing but sub_products of that product_category in masked format.\n",
    "\n",
    "The graph shows that the sub_product count and the two color bars are showing the customer category count, which is buying that product.\n",
    "\n",
    "We observed that there are some sub_product's selling count is high and most of the 'Male' customers are buying that product."
   ]
  },
  {
   "cell_type": "markdown",
   "id": "ceeb4dc5",
   "metadata": {
    "papermill": {
     "duration": 0.022238,
     "end_time": "2025-02-09T10:44:35.865714",
     "exception": false,
     "start_time": "2025-02-09T10:44:35.843476",
     "status": "completed"
    },
    "tags": []
   },
   "source": [
    "## Get purchase details of 'Married' and 'UnMarried' customers. {'UnMarried': 0, 'Married': 1}"
   ]
  },
  {
   "cell_type": "markdown",
   "id": "9423a209",
   "metadata": {
    "papermill": {
     "duration": 0.022776,
     "end_time": "2025-02-09T10:44:35.911781",
     "exception": false,
     "start_time": "2025-02-09T10:44:35.889005",
     "status": "completed"
    },
    "tags": []
   },
   "source": [
    "#### 7) Purchase Distribution of Married and UnMarried Customers."
   ]
  },
  {
   "cell_type": "code",
   "execution_count": 38,
   "id": "1111c6ed",
   "metadata": {
    "execution": {
     "iopub.execute_input": "2025-02-09T10:44:35.959264Z",
     "iopub.status.busy": "2025-02-09T10:44:35.958911Z",
     "iopub.status.idle": "2025-02-09T10:44:36.468133Z",
     "shell.execute_reply": "2025-02-09T10:44:36.466918Z"
    },
    "papermill": {
     "duration": 0.535045,
     "end_time": "2025-02-09T10:44:36.470156",
     "exception": false,
     "start_time": "2025-02-09T10:44:35.935111",
     "status": "completed"
    },
    "tags": []
   },
   "outputs": [
    {
     "data": {
      "image/png": "[encoded data removed]",
      "text/plain": [
       "<Figure size 1000x400 with 2 Axes>"
      ]
     },
     "metadata": {},
     "output_type": "display_data"
    }
   ],
   "source": [
    "UM_P=bfs[bfs['marital_status']==0].value_counts('purchase').to_frame()\n",
    "M_P=bfs[bfs['marital_status']==1].value_counts('purchase').to_frame()\n",
    "plt.figure(figsize=(10,4))\n",
    "plt.subplots_adjust(left=0.1,\n",
    "                    bottom=0.1,\n",
    "                    right=1.2,\n",
    "                    top=0.9,\n",
    "                    wspace=0.4,\n",
    "                    hspace=0.4)\n",
    "plt.subplot(1,2,1)\n",
    "sns.kdeplot(x='purchase',data=UM_P).set_title('UnMarried')\n",
    "plt.subplot(1,2,2)\n",
    "sns.kdeplot(x='purchase',data=M_P).set_title('Married')\n",
    "plt.show()"
   ]
  },
  {
   "cell_type": "markdown",
   "id": "c495d444",
   "metadata": {
    "papermill": {
     "duration": 0.022463,
     "end_time": "2025-02-09T10:44:36.515698",
     "exception": false,
     "start_time": "2025-02-09T10:44:36.493235",
     "status": "completed"
    },
    "tags": []
   },
   "source": [
    "Purchase distribution of both 'Married' and 'UnMarried' customers is quite the same."
   ]
  },
  {
   "cell_type": "markdown",
   "id": "de4d0e04",
   "metadata": {
    "papermill": {
     "duration": 0.022608,
     "end_time": "2025-02-09T10:44:36.560962",
     "exception": false,
     "start_time": "2025-02-09T10:44:36.538354",
     "status": "completed"
    },
    "tags": []
   },
   "source": [
    "#### 8) Find which customer visits more frequently ? UnMarried or Married? {'UnMarried': 0, 'Married': 1}."
   ]
  },
  {
   "cell_type": "code",
   "execution_count": 39,
   "id": "e6efcfff",
   "metadata": {
    "execution": {
     "iopub.execute_input": "2025-02-09T10:44:36.607996Z",
     "iopub.status.busy": "2025-02-09T10:44:36.607610Z",
     "iopub.status.idle": "2025-02-09T10:44:36.722253Z",
     "shell.execute_reply": "2025-02-09T10:44:36.720993Z"
    },
    "papermill": {
     "duration": 0.140193,
     "end_time": "2025-02-09T10:44:36.724030",
     "exception": false,
     "start_time": "2025-02-09T10:44:36.583837",
     "status": "completed"
    },
    "tags": []
   },
   "outputs": [
    {
     "data": {
      "image/png": "[encoded data removed]",
      "text/plain": [
       "<Figure size 500x500 with 1 Axes>"
      ]
     },
     "metadata": {},
     "output_type": "display_data"
    }
   ],
   "source": [
    "bfs.groupby('marital_status').agg({'marital_status':'count'}).marital_status.plot(kind='pie',autopct='%1.1f%%',figsize=(5,5),shadow=True)\n",
    "plt.show()"
   ]
  },
  {
   "cell_type": "markdown",
   "id": "8aabf331",
   "metadata": {
    "papermill": {
     "duration": 0.023862,
     "end_time": "2025-02-09T10:44:36.772211",
     "exception": false,
     "start_time": "2025-02-09T10:44:36.748349",
     "status": "completed"
    },
    "tags": []
   },
   "source": [
    "We observed that 'UnMarried' customers were visiting us frequently. And we have 'Married' customer in large amount as well."
   ]
  },
  {
   "cell_type": "markdown",
   "id": "88d040a6",
   "metadata": {
    "papermill": {
     "duration": 0.02427,
     "end_time": "2025-02-09T10:44:36.820565",
     "exception": false,
     "start_time": "2025-02-09T10:44:36.796295",
     "status": "completed"
    },
    "tags": []
   },
   "source": [
    "#### 9) Find which customer is purchasing more (Married or UnMarried) and Top 10 products purchased by them."
   ]
  },
  {
   "cell_type": "code",
   "execution_count": 40,
   "id": "cb66bebe",
   "metadata": {
    "execution": {
     "iopub.execute_input": "2025-02-09T10:44:36.869593Z",
     "iopub.status.busy": "2025-02-09T10:44:36.869187Z",
     "iopub.status.idle": "2025-02-09T10:44:36.883424Z",
     "shell.execute_reply": "2025-02-09T10:44:36.882378Z"
    },
    "papermill": {
     "duration": 0.040429,
     "end_time": "2025-02-09T10:44:36.884954",
     "exception": false,
     "start_time": "2025-02-09T10:44:36.844525",
     "status": "completed"
    },
    "tags": []
   },
   "outputs": [
    {
     "data": {
      "text/html": [
       "<div>\n",
       "<style scoped>\n",
       "    .dataframe tbody tr th:only-of-type {\n",
       "        vertical-align: middle;\n",
       "    }\n",
       "\n",
       "    .dataframe tbody tr th {\n",
       "        vertical-align: top;\n",
       "    }\n",
       "\n",
       "    .dataframe thead th {\n",
       "        text-align: right;\n",
       "    }\n",
       "</style>\n",
       "<table border=\"1\" class=\"dataframe\">\n",
       "  <thead>\n",
       "    <tr style=\"text-align: right;\">\n",
       "      <th></th>\n",
       "      <th>user_id</th>\n",
       "      <th>product_id</th>\n",
       "      <th>gender</th>\n",
       "      <th>age</th>\n",
       "      <th>occupation</th>\n",
       "      <th>city_category</th>\n",
       "      <th>stay_in_current_city_years</th>\n",
       "      <th>marital_status</th>\n",
       "      <th>product_category_1</th>\n",
       "      <th>product_category_2</th>\n",
       "      <th>product_category_3</th>\n",
       "      <th>purchase</th>\n",
       "    </tr>\n",
       "  </thead>\n",
       "  <tbody>\n",
       "    <tr>\n",
       "      <th>0</th>\n",
       "      <td>1000001</td>\n",
       "      <td>P00069042</td>\n",
       "      <td>F</td>\n",
       "      <td>0-17</td>\n",
       "      <td>10</td>\n",
       "      <td>A</td>\n",
       "      <td>2</td>\n",
       "      <td>0</td>\n",
       "      <td>3.0</td>\n",
       "      <td>4.0</td>\n",
       "      <td>16.0</td>\n",
       "      <td>8370</td>\n",
       "    </tr>\n",
       "  </tbody>\n",
       "</table>\n",
       "</div>"
      ],
      "text/plain": [
       "   user_id product_id gender   age  occupation city_category  \\\n",
       "0  1000001  P00069042      F  0-17          10             A   \n",
       "\n",
       "   stay_in_current_city_years  marital_status  product_category_1  \\\n",
       "0                           2               0                 3.0   \n",
       "\n",
       "   product_category_2  product_category_3  purchase  \n",
       "0                 4.0                16.0      8370  "
      ]
     },
     "execution_count": 40,
     "metadata": {},
     "output_type": "execute_result"
    }
   ],
   "source": [
    "bfs.head(1)"
   ]
  },
  {
   "cell_type": "code",
   "execution_count": 41,
   "id": "9b9caee1",
   "metadata": {
    "execution": {
     "iopub.execute_input": "2025-02-09T10:44:36.933648Z",
     "iopub.status.busy": "2025-02-09T10:44:36.933215Z",
     "iopub.status.idle": "2025-02-09T10:44:37.938678Z",
     "shell.execute_reply": "2025-02-09T10:44:37.937501Z"
    },
    "papermill": {
     "duration": 1.031876,
     "end_time": "2025-02-09T10:44:37.940459",
     "exception": false,
     "start_time": "2025-02-09T10:44:36.908583",
     "status": "completed"
    },
    "tags": []
   },
   "outputs": [
    {
     "data": {
      "text/html": [
       "<div>\n",
       "<style scoped>\n",
       "    .dataframe tbody tr th:only-of-type {\n",
       "        vertical-align: middle;\n",
       "    }\n",
       "\n",
       "    .dataframe tbody tr th {\n",
       "        vertical-align: top;\n",
       "    }\n",
       "\n",
       "    .dataframe thead th {\n",
       "        text-align: right;\n",
       "    }\n",
       "</style>\n",
       "<table border=\"1\" class=\"dataframe\">\n",
       "  <thead>\n",
       "    <tr style=\"text-align: right;\">\n",
       "      <th></th>\n",
       "      <th>gender</th>\n",
       "      <th>marital_status</th>\n",
       "      <th>purchase</th>\n",
       "    </tr>\n",
       "  </thead>\n",
       "  <tbody>\n",
       "    <tr>\n",
       "      <th>0</th>\n",
       "      <td>F</td>\n",
       "      <td>0</td>\n",
       "      <td>684154127</td>\n",
       "    </tr>\n",
       "    <tr>\n",
       "      <th>1</th>\n",
       "      <td>F</td>\n",
       "      <td>1</td>\n",
       "      <td>502078515</td>\n",
       "    </tr>\n",
       "    <tr>\n",
       "      <th>2</th>\n",
       "      <td>M</td>\n",
       "      <td>0</td>\n",
       "      <td>2324773320</td>\n",
       "    </tr>\n",
       "    <tr>\n",
       "      <th>3</th>\n",
       "      <td>M</td>\n",
       "      <td>1</td>\n",
       "      <td>1584806780</td>\n",
       "    </tr>\n",
       "  </tbody>\n",
       "</table>\n",
       "</div>"
      ],
      "text/plain": [
       "  gender  marital_status    purchase\n",
       "0      F               0   684154127\n",
       "1      F               1   502078515\n",
       "2      M               0  2324773320\n",
       "3      M               1  1584806780"
      ]
     },
     "execution_count": 41,
     "metadata": {},
     "output_type": "execute_result"
    },
    {
     "data": {
      "image/png": "[encoded data removed]",
      "text/plain": [
       "<Figure size 640x480 with 3 Axes>"
      ]
     },
     "metadata": {},
     "output_type": "display_data"
    }
   ],
   "source": [
    "M_UM_P=bfs.groupby(['gender','marital_status']).agg({'purchase':sum}).reset_index()\n",
    "UM=bfs[bfs['marital_status']==0].value_counts('product_id').nlargest(10)\n",
    "M=bfs[bfs['marital_status']==1].value_counts('product_id').nlargest(10)\n",
    "plt.subplots_adjust(left=1,\n",
    "                    bottom=1,\n",
    "                    right=3,\n",
    "                    top=3,\n",
    "                    wspace=0.4,\n",
    "                    hspace=0.4)\n",
    "plt.subplot(2,2,1)\n",
    "sns.barplot(x='marital_status',y='purchase',hue='gender',data=M_UM_P)\n",
    "plt.subplot(2,2,3)\n",
    "UM.plot(x=UM.index,y=UM,kind='bar',title='UnMarried_Customer')\n",
    "plt.subplot(2,2,4)\n",
    "M.plot(x=M.index,y=M,kind='bar',title='Married_Customer')\n",
    "M_UM_P"
   ]
  },
  {
   "cell_type": "markdown",
   "id": "d4545714",
   "metadata": {
    "papermill": {
     "duration": 0.024941,
     "end_time": "2025-02-09T10:44:37.990729",
     "exception": false,
     "start_time": "2025-02-09T10:44:37.965788",
     "status": "completed"
    },
    "tags": []
   },
   "source": [
    "In the above plot, we can see that 'UnMarried' customers are purchasing more than the 'Married' customers.\n",
    "\n",
    "And BarPlot showing the top 10 Product Id's purchased by them frequently."
   ]
  },
  {
   "cell_type": "markdown",
   "id": "67eea4bb",
   "metadata": {
    "papermill": {
     "duration": 0.025009,
     "end_time": "2025-02-09T10:44:38.040941",
     "exception": false,
     "start_time": "2025-02-09T10:44:38.015932",
     "status": "completed"
    },
    "tags": []
   },
   "source": [
    "## Conclusion:"
   ]
  }
 ],
 "metadata": {
  "kaggle": {
   "accelerator": "none",
   "dataSources": [
    {
     "datasetId": 6626411,
     "sourceId": 10694010,
     "sourceType": "datasetVersion"
    }
   ],
   "dockerImageVersionId": 30886,
   "isGpuEnabled": false,
   "isInternetEnabled": true,
   "language": "python",
   "sourceType": "notebook"
  },
  "kernelspec": {
   "display_name": "Python 3",
   "language": "python",
   "name": "python3"
  },
  "language_info": {
   "codemirror_mode": {
    "name": "ipython",
    "version": 3
   },
   "file_extension": ".py",
   "mimetype": "text/x-python",
   "name": "python",
   "nbconvert_exporter": "python",
   "pygments_lexer": "ipython3",
   "version": "3.10.12"
  },
  "papermill": {
   "default_parameters": {},
   "duration": 22.776029,
   "end_time": "2025-02-09T10:44:38.788665",
   "environment_variables": {},
   "exception": null,
   "input_path": "__notebook__.ipynb",
   "output_path": "__notebook__.ipynb",
   "parameters": {},
   "start_time": "2025-02-09T10:44:16.012636",
   "version": "2.6.0"
  }
 },
 "nbformat": 4,
 "nbformat_minor": 5
}
